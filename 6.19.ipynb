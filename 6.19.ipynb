# dd
{
 "cells": [
  {
   "cell_type": "code",
   "execution_count": 1,
   "metadata": {},
   "outputs": [],
   "source": [
    "import torch"
   ]
  },
  {
   "cell_type": "code",
   "execution_count": 2,
   "metadata": {},
   "outputs": [
    {
     "name": "stdout",
     "output_type": "stream",
     "text": [
      "tensor(1.)\n",
      "tensor(2.)\n",
      "tensor(3.)\n",
      "******\n",
      "tensor(2.)\n",
      "tensor(1.)\n",
      "tensor(1.)\n"
     ]
    }
   ],
   "source": [
    "x = torch.tensor(1., requires_grad=True)\n",
    "w = torch.tensor(2., requires_grad=True)\n",
    "b = torch.tensor(3., requires_grad=True)\n",
    "# 也可以使用下面注释的这种写法\n",
    "# x = Variable(torch.tensor(1.), requires_grad=True)\n",
    "# w = Variable(torch.tensor(2.), requires_grad=True)\n",
    "# b = Variable(torch.tensor(3.), requires_grad=True)\n",
    "\n",
    "y = x * w + b\n",
    "y.backward()\n",
    "\n",
    "print(x.data)\n",
    "print(w.data)\n",
    "print(b.data)\n",
    "# tensor(1.)\n",
    "# tensor(2.)\n",
    "# tensor(3.)\n",
    "\n",
    "print('*'*6)\n",
    "\n",
    "print(x.grad)\n",
    "print(w.grad)\n",
    "print(b.grad)\n",
    "\n",
    "# tensor(2.)\n",
    "# tensor(1.)\n",
    "# tensor(1.)"
   ]
  },
  {
   "cell_type": "code",
   "execution_count": 4,
   "metadata": {},
   "outputs": [
    {
     "name": "stdout",
     "output_type": "stream",
     "text": [
      "epoch[5/60],Loss0.1765\n",
      "epoch[10/60],Loss0.1736\n",
      "epoch[15/60],Loss0.1725\n",
      "epoch[20/60],Loss0.1720\n",
      "epoch[25/60],Loss0.1718\n",
      "epoch[30/60],Loss0.1717\n",
      "epoch[35/60],Loss0.1717\n",
      "epoch[40/60],Loss0.1716\n",
      "epoch[45/60],Loss0.1716\n",
      "epoch[50/60],Loss0.1716\n",
      "epoch[55/60],Loss0.1716\n",
      "epoch[60/60],Loss0.1716\n"
     ]
    },
    {
     "data": {
      "image/png": "[encoded data removed]",
      "text/plain": [
       "<Figure size 432x288 with 1 Axes>"
      ]
     },
     "metadata": {
      "needs_background": "light"
     },
     "output_type": "display_data"
    }
   ],
   "source": [
    "import torch\n",
    "import torchvision\n",
    "import torch.nn as nn\n",
    "import numpy as np\n",
    "import matplotlib.pyplot as plt\n",
    "\n",
    "# 超参数设定\n",
    "input_size = 1\n",
    "output_size = 1\n",
    "num_epochs = 60\n",
    "learning_rate = 0.001\n",
    "\n",
    "\n",
    "#数据\n",
    "x_train = np.array([[3.3], [4.4], [5.5], [6.71], [6.93], [4.168],\n",
    "                    [9.779], [6.182], [7.59], [2.167], [7.042],\n",
    "                    [10.791], [5.313], [7.997], [3.1]], dtype=np.float32)\n",
    "\n",
    "y_train = np.array([[1.7], [2.76], [2.09], [3.19], [1.694], [1.573],\n",
    "                    [3.366], [2.596], [2.53], [1.221], [2.827],\n",
    "                    [3.465], [1.65], [2.904], [1.3]], dtype=np.float32)\n",
    "\n",
    "#模型设置\n",
    "model = nn.Linear(input_size, output_size)\n",
    "\n",
    "criterion = nn.MSELoss()\n",
    "optimizer = torch.optim.SGD(model.parameters(), lr=learning_rate)\n",
    "\n",
    "#训练模型\n",
    "for epoch in range(num_epochs):\n",
    "    # 将numpy array转为torch 的tensor\n",
    "    inputs = torch.from_numpy(x_train)\n",
    "    targets = torch.from_numpy(y_train)\n",
    "\n",
    "    outputs = model(inputs)\n",
    "    loss = criterion(outputs, targets)\n",
    "\n",
    "    optimizer.zero_grad()\n",
    "    loss.backward()\n",
    "    optimizer.step()\n",
    "\n",
    "    if (epoch + 1) % 5 == 0:\n",
    "        print('epoch[{}/{}],Loss{:.4f}'.format(epoch + 1, num_epochs, loss.item()))\n",
    "\n",
    "\n",
    "predicted = model(torch.from_numpy(x_train)).detach().numpy()\n",
    "plt.plot(x_train, y_train, 'ro', label='original data')\n",
    "plt.plot(x_train, predicted, label='fitted data')\n",
    "plt.legend()\n",
    "plt.show()\n",
    "\n",
    "torch.save(model.state_dict(), 'Linearmodel.ckpt')"
   ]
  },
  {
   "cell_type": "code",
   "execution_count": 83,
   "metadata": {},
   "outputs": [
    {
     "name": "stdout",
     "output_type": "stream",
     "text": [
      "[('weight', Parameter containing:\n",
      "tensor([[0.4820]], requires_grad=True)), ('bias', Parameter containing:\n",
      "tensor([-0.8190], requires_grad=True))]\n"
     ]
    }
   ],
   "source": [
    "param_optimizer = list(model.named_parameters())\n",
    "print(param_optimizer)"
   ]
  },
  {
   "cell_type": "code",
   "execution_count": 87,
   "metadata": {},
   "outputs": [],
   "source": [
    "import torch.nn as nn\n",
    "import torchvision.transforms as transforms\n",
    "import torchvision\n",
    "import torch\n",
    "\n",
    "device = torch.device('cuda:0' if torch.cuda.is_available() else 'cpu')\n",
    "\n",
    "# print(device)\n",
    "# 超参数\n",
    "num_epochs = 10\n",
    "num_classes = 10\n",
    "batch_size = 32\n",
    "learning_rate = 0.001\n",
    "\n",
    "train_dataset = torchvision.datasets.MNIST(root='./data', train=True, transform=transforms.ToTensor(), download=True)\n",
    "test_dataset = torchvision.datasets.MNIST(root='./data', train=False, transform=transforms.ToTensor())\n",
    "train_loader = torch.utils.data.DataLoader(dataset=train_dataset, batch_size=batch_size, shuffle=True)\n",
    "test_loader = torch.utils.data.DataLoader(dataset=test_dataset, batch_size=batch_size, shuffle=False)"
   ]
  },
  {
   "cell_type": "code",
   "execution_count": 88,
   "metadata": {},
   "outputs": [],
   "source": [
    "for data in train_loader:\n",
    "    img, label = data"
   ]
  },
  {
   "cell_type": "code",
   "execution_count": 89,
   "metadata": {},
   "outputs": [
    {
     "name": "stdout",
     "output_type": "stream",
     "text": [
      "tensor([8, 3, 5, 9, 5, 9, 4, 4, 1, 6, 6, 8, 9, 5, 7, 4, 0, 5, 6, 4, 3, 8, 4, 0,\n",
      "        6, 7, 2, 7, 6, 8, 3, 6])\n",
      "tensor([[[0.0000, 0.0000, 0.0000, 0.0000, 0.0000, 0.0000, 0.0000, 0.0000,\n",
      "          0.0000, 0.0000, 0.0000, 0.0000, 0.0000, 0.0000, 0.0000, 0.0000,\n",
      "          0.0000, 0.0000, 0.0000, 0.0000, 0.0000, 0.0000, 0.0000, 0.0000,\n",
      "          0.0000, 0.0000, 0.0000, 0.0000],\n",
      "         [0.0000, 0.0000, 0.0000, 0.0000, 0.0000, 0.0000, 0.0000, 0.0000,\n",
      "          0.0000, 0.0000, 0.0000, 0.0000, 0.0000, 0.0000, 0.0000, 0.0000,\n",
      "          0.0000, 0.0000, 0.0000, 0.0000, 0.0000, 0.0000, 0.0000, 0.0000,\n",
      "          0.0000, 0.0000, 0.0000, 0.0000],\n",
      "         [0.0000, 0.0000, 0.0000, 0.0000, 0.0000, 0.0000, 0.0000, 0.0000,\n",
      "          0.0000, 0.0000, 0.0000, 0.0000, 0.0000, 0.0000, 0.0000, 0.0000,\n",
      "          0.0000, 0.0000, 0.0000, 0.0000, 0.0000, 0.0000, 0.0000, 0.0000,\n",
      "          0.0000, 0.0000, 0.0000, 0.0000],\n",
      "         [0.0000, 0.0000, 0.0000, 0.0000, 0.0000, 0.0000, 0.0000, 0.0000,\n",
      "          0.0000, 0.0000, 0.0000, 0.0000, 0.0000, 0.0000, 0.0000, 0.0000,\n",
      "          0.0000, 0.0000, 0.0000, 0.0000, 0.0000, 0.0000, 0.0000, 0.0000,\n",
      "          0.0000, 0.0000, 0.0000, 0.0000],\n",
      "         [0.0000, 0.0000, 0.0000, 0.0000, 0.0000, 0.0000, 0.0000, 0.0000,\n",
      "          0.0000, 0.0000, 0.0000, 0.0000, 0.0000, 0.0000, 0.0000, 0.0000,\n",
      "          0.0000, 0.0000, 0.0000, 0.0000, 0.0000, 0.0000, 0.0000, 0.0000,\n",
      "          0.0000, 0.0000, 0.0000, 0.0000],\n",
      "         [0.0000, 0.0000, 0.0000, 0.0000, 0.0000, 0.0000, 0.0000, 0.0000,\n",
      "          0.0000, 0.0000, 0.0000, 0.0000, 0.0078, 0.0275, 0.3725, 0.2745,\n",
      "          0.5098, 0.5098, 0.6667, 1.0000, 0.5804, 0.5569, 0.0039, 0.0000,\n",
      "          0.0000, 0.0000, 0.0000, 0.0000],\n",
      "         [0.0000, 0.0000, 0.0000, 0.0000, 0.0000, 0.0000, 0.0000, 0.0000,\n",
      "          0.0000, 0.0000, 0.0078, 0.3608, 0.6118, 0.9922, 0.9922, 0.9922,\n",
      "          0.9922, 0.9922, 0.9922, 0.9922, 0.9922, 0.9725, 0.0902, 0.0000,\n",
      "          0.0000, 0.0000, 0.0000, 0.0000],\n",
      "         [0.0000, 0.0000, 0.0000, 0.0000, 0.0000, 0.0000, 0.0000, 0.0000,\n",
      "          0.0078, 0.1216, 0.6118, 0.9922, 0.9922, 0.9922, 0.9922, 0.9922,\n",
      "          0.9922, 0.9922, 0.9922, 0.9922, 0.9922, 0.6039, 0.0000, 0.0000,\n",
      "          0.0000, 0.0000, 0.0000, 0.0000],\n",
      "         [0.0000, 0.0000, 0.0000, 0.0000, 0.0000, 0.0000, 0.0000, 0.0000,\n",
      "          0.3608, 0.9922, 0.9922, 0.9922, 0.9922, 0.9922, 0.9725, 0.8941,\n",
      "          0.7647, 0.4118, 0.6471, 0.4471, 0.6863, 0.8314, 0.5843, 0.5843,\n",
      "          0.0745, 0.0000, 0.0000, 0.0000],\n",
      "         [0.0000, 0.0000, 0.0000, 0.0000, 0.0000, 0.0000, 0.0039, 0.1490,\n",
      "          0.8235, 0.9922, 0.9922, 0.9137, 0.7882, 0.3882, 0.3020, 0.0000,\n",
      "          0.0000, 0.0000, 0.1961, 0.7412, 0.9922, 0.9922, 0.9922, 0.8784,\n",
      "          0.2275, 0.0000, 0.0000, 0.0000],\n",
      "         [0.0000, 0.0000, 0.0000, 0.0000, 0.0000, 0.0000, 0.0275, 0.9922,\n",
      "          0.9922, 0.9922, 0.9765, 0.3098, 0.0000, 0.0000, 0.0000, 0.0000,\n",
      "          0.0000, 0.2588, 0.7490, 0.9922, 0.9922, 0.9373, 0.8471, 0.0588,\n",
      "          0.0000, 0.0000, 0.0000, 0.0000],\n",
      "         [0.0000, 0.0000, 0.0000, 0.0000, 0.0000, 0.0000, 0.0275, 0.9922,\n",
      "          0.9922, 0.9922, 0.5490, 0.0000, 0.0000, 0.0000, 0.0000, 0.0431,\n",
      "          0.5412, 0.9216, 0.9922, 0.9922, 0.8471, 0.5020, 0.0000, 0.0000,\n",
      "          0.0000, 0.0000, 0.0000, 0.0000],\n",
      "         [0.0000, 0.0000, 0.0000, 0.0000, 0.0000, 0.0000, 0.0275, 0.9922,\n",
      "          0.9922, 0.9922, 0.5020, 0.0745, 0.0000, 0.0000, 0.0431, 0.3922,\n",
      "          0.9922, 0.9922, 0.9922, 0.6627, 0.0471, 0.0000, 0.0000, 0.0000,\n",
      "          0.0000, 0.0000, 0.0000, 0.0000],\n",
      "         [0.0000, 0.0000, 0.0000, 0.0000, 0.0000, 0.0000, 0.0196, 0.8902,\n",
      "          0.9922, 0.9922, 0.9922, 0.4706, 0.0000, 0.0431, 0.6275, 0.9922,\n",
      "          0.9922, 0.9922, 0.6588, 0.0510, 0.0000, 0.0000, 0.0000, 0.0000,\n",
      "          0.0000, 0.0000, 0.0000, 0.0000],\n",
      "         [0.0000, 0.0000, 0.0000, 0.0000, 0.0000, 0.0000, 0.0000, 0.1686,\n",
      "          0.8863, 0.9922, 0.9922, 0.9529, 0.6471, 0.6275, 0.9922, 0.9922,\n",
      "          0.9922, 0.6588, 0.0510, 0.0000, 0.0000, 0.0000, 0.0000, 0.0000,\n",
      "          0.0000, 0.0000, 0.0000, 0.0000],\n",
      "         [0.0000, 0.0000, 0.0000, 0.0000, 0.0000, 0.0000, 0.0000, 0.0000,\n",
      "          0.4118, 0.7529, 0.9922, 0.9922, 0.9922, 0.9922, 0.9922, 0.9922,\n",
      "          0.7882, 0.0549, 0.0000, 0.0000, 0.0000, 0.0000, 0.0000, 0.0000,\n",
      "          0.0000, 0.0000, 0.0000, 0.0000],\n",
      "         [0.0000, 0.0000, 0.0000, 0.0000, 0.0000, 0.0000, 0.0000, 0.0000,\n",
      "          0.0000, 0.0980, 0.9922, 0.9922, 0.9922, 0.9922, 0.9922, 0.9216,\n",
      "          0.2745, 0.0000, 0.0000, 0.0000, 0.0000, 0.0000, 0.0000, 0.0000,\n",
      "          0.0000, 0.0000, 0.0000, 0.0000],\n",
      "         [0.0000, 0.0000, 0.0000, 0.0000, 0.0000, 0.0000, 0.0000, 0.0000,\n",
      "          0.0000, 0.0196, 0.2510, 0.8784, 0.9922, 0.9922, 0.9922, 0.8275,\n",
      "          0.0784, 0.0000, 0.0000, 0.0000, 0.0000, 0.0000, 0.0000, 0.0000,\n",
      "          0.0000, 0.0000, 0.0000, 0.0000],\n",
      "         [0.0000, 0.0000, 0.0000, 0.0000, 0.0000, 0.0000, 0.0000, 0.0000,\n",
      "          0.0000, 0.0000, 0.0000, 0.3961, 0.9922, 0.9922, 0.9922, 0.9922,\n",
      "          0.7373, 0.0745, 0.0000, 0.0000, 0.0000, 0.0000, 0.0000, 0.0000,\n",
      "          0.0000, 0.0000, 0.0000, 0.0000],\n",
      "         [0.0000, 0.0000, 0.0000, 0.0000, 0.0000, 0.0000, 0.0000, 0.0000,\n",
      "          0.0000, 0.0000, 0.0000, 0.6314, 0.9922, 0.9922, 0.9922, 0.9922,\n",
      "          0.9922, 0.5020, 0.0706, 0.0000, 0.0000, 0.0000, 0.0000, 0.0000,\n",
      "          0.0000, 0.0000, 0.0000, 0.0000],\n",
      "         [0.0000, 0.0000, 0.0000, 0.0000, 0.0000, 0.0000, 0.0000, 0.0000,\n",
      "          0.0000, 0.0000, 0.0000, 0.6314, 0.9922, 0.9922, 0.9922, 0.9922,\n",
      "          0.9922, 0.9922, 0.6196, 0.0000, 0.0000, 0.0000, 0.0000, 0.0000,\n",
      "          0.0000, 0.0000, 0.0000, 0.0000],\n",
      "         [0.0000, 0.0000, 0.0000, 0.0000, 0.0000, 0.0000, 0.0000, 0.0000,\n",
      "          0.0000, 0.0000, 0.0000, 0.6314, 0.9922, 0.9922, 0.9922, 0.9922,\n",
      "          0.9922, 0.9922, 0.6745, 0.0000, 0.0000, 0.0000, 0.0000, 0.0000,\n",
      "          0.0000, 0.0000, 0.0000, 0.0000],\n",
      "         [0.0000, 0.0000, 0.0000, 0.0000, 0.0000, 0.0000, 0.0000, 0.0000,\n",
      "          0.0000, 0.0000, 0.0000, 0.6314, 0.9922, 0.9922, 0.9922, 0.9922,\n",
      "          0.9922, 0.9922, 0.6745, 0.0000, 0.0000, 0.0000, 0.0000, 0.0000,\n",
      "          0.0000, 0.0000, 0.0000, 0.0000],\n",
      "         [0.0000, 0.0000, 0.0000, 0.0000, 0.0000, 0.0000, 0.0000, 0.0000,\n",
      "          0.0000, 0.0000, 0.0000, 0.1686, 0.9922, 0.9922, 0.9922, 0.9922,\n",
      "          0.9922, 0.9922, 0.2157, 0.0000, 0.0000, 0.0000, 0.0000, 0.0000,\n",
      "          0.0000, 0.0000, 0.0000, 0.0000],\n",
      "         [0.0000, 0.0000, 0.0000, 0.0000, 0.0000, 0.0000, 0.0000, 0.0000,\n",
      "          0.0000, 0.0000, 0.0000, 0.0039, 0.1059, 0.6000, 0.9922, 0.9922,\n",
      "          0.9922, 0.4706, 0.0039, 0.0000, 0.0000, 0.0000, 0.0000, 0.0000,\n",
      "          0.0000, 0.0000, 0.0000, 0.0000],\n",
      "         [0.0000, 0.0000, 0.0000, 0.0000, 0.0000, 0.0000, 0.0000, 0.0000,\n",
      "          0.0000, 0.0000, 0.0000, 0.0000, 0.0000, 0.0000, 0.0000, 0.0000,\n",
      "          0.0000, 0.0000, 0.0000, 0.0000, 0.0000, 0.0000, 0.0000, 0.0000,\n",
      "          0.0000, 0.0000, 0.0000, 0.0000],\n",
      "         [0.0000, 0.0000, 0.0000, 0.0000, 0.0000, 0.0000, 0.0000, 0.0000,\n",
      "          0.0000, 0.0000, 0.0000, 0.0000, 0.0000, 0.0000, 0.0000, 0.0000,\n",
      "          0.0000, 0.0000, 0.0000, 0.0000, 0.0000, 0.0000, 0.0000, 0.0000,\n",
      "          0.0000, 0.0000, 0.0000, 0.0000],\n",
      "         [0.0000, 0.0000, 0.0000, 0.0000, 0.0000, 0.0000, 0.0000, 0.0000,\n",
      "          0.0000, 0.0000, 0.0000, 0.0000, 0.0000, 0.0000, 0.0000, 0.0000,\n",
      "          0.0000, 0.0000, 0.0000, 0.0000, 0.0000, 0.0000, 0.0000, 0.0000,\n",
      "          0.0000, 0.0000, 0.0000, 0.0000]]])\n"
     ]
    }
   ],
   "source": [
    "print(data[1])\n",
    "print(data[0][0])\n",
    "\n",
    "\n"
   ]
  },
  {
   "cell_type": "code",
   "execution_count": 90,
   "metadata": {},
   "outputs": [],
   "source": [
    "import torch\n",
    "from torch import nn, optim\n",
    "from torch.autograd import Variable\n",
    "from torch.utils.data import DataLoader\n",
    "from torchvision import datasets, transforms\n",
    "import matplotlib.pyplot as plt\n",
    "\n",
    "\n",
    "# 定义一些超参数\n",
    "batch_size = 64\n",
    "learning_rate = 0.02\n",
    "num_epoches = 20\n",
    "\n",
    "# 数据预处理。transforms.ToTensor()将图片转换成PyTorch中处理的对象Tensor,并且进行标准化（数据在0~1之间）\n",
    "# transforms.Normalize()做归一化。它进行了减均值，再除以标准差。两个参数分别是均值和标准差\n",
    "# transforms.Compose()函数则是将各种预处理的操作组合到了一起\n",
    "data_tf = transforms.Compose(\n",
    "    [transforms.ToTensor(),\n",
    "     transforms.Normalize([0.5], [0.5])])\n",
    "\n",
    "# 数据集的下载器\n",
    "train_dataset = datasets.MNIST(\n",
    "    root='./data', train=True, transform=data_tf, download=True)\n",
    "test_dataset = datasets.MNIST(root='./data', train=False, transform=data_tf)\n",
    "train_loader = DataLoader(train_dataset, batch_size=batch_size, shuffle=True)\n",
    "test_loader = DataLoader(test_dataset, batch_size=batch_size, shuffle=False)\n",
    "\n",
    "\n",
    "class simpleNet(nn.Module):\n",
    "    \"\"\"\n",
    "    定义了一个简单的三层全连接神经网络，每一层都是线性的\n",
    "    \"\"\"\n",
    "    def __init__(self, in_dim, n_hidden_1, n_hidden_2, out_dim):\n",
    "        super(simpleNet, self).__init__()\n",
    "        self.layer1 = nn.Linear(in_dim, n_hidden_1)\n",
    "        self.layer2 = nn.Linear(n_hidden_1, n_hidden_2)\n",
    "        self.layer3 = nn.Linear(n_hidden_2, out_dim)\n",
    "\n",
    "    def forward(self, x):\n",
    "        x = self.layer1(x)\n",
    "        x = self.layer2(x)\n",
    "        x = self.layer3(x)\n",
    "        return x\n",
    "\n",
    "class Activation_Net(nn.Module):\n",
    "    \"\"\"\n",
    "    在上面的simpleNet的基础上，在每层的输出部分添加了激活函数\n",
    "    \"\"\"\n",
    "    def __init__(self, in_dim, n_hidden_1, n_hidden_2, out_dim):\n",
    "        super(Activation_Net, self).__init__()\n",
    "        self.layer1 = nn.Sequential(nn.Linear(in_dim, n_hidden_1), nn.ReLU(True))\n",
    "        self.layer2 = nn.Sequential(nn.Linear(n_hidden_1, n_hidden_2), nn.ReLU(True))\n",
    "        self.layer3 = nn.Sequential(nn.Linear(n_hidden_2, out_dim))\n",
    "        \"\"\"\n",
    "        这里的Sequential()函数的功能是将网络的层组合到一起。\n",
    "        \"\"\"\n",
    "\n",
    "    def forward(self, x):\n",
    "        x = self.layer1(x)\n",
    "        x = self.layer2(x)\n",
    "        x = self.layer3(x)\n",
    "        return x\n",
    "\n",
    "class Batch_Net(nn.Module):\n",
    "    \"\"\"\n",
    "    在上面的Activation_Net的基础上，增加了一个加快收敛速度的方法——批标准化\n",
    "    \"\"\"\n",
    "    def __init__(self, in_dim, n_hidden_1, n_hidden_2, out_dim):\n",
    "        super(Batch_Net, self).__init__()\n",
    "        self.layer1 = nn.Sequential(nn.Linear(in_dim, n_hidden_1), nn.BatchNorm1d(n_hidden_1), nn.ReLU(True))\n",
    "        self.layer2 = nn.Sequential(nn.Linear(n_hidden_1, n_hidden_2), nn.BatchNorm1d(n_hidden_2), nn.ReLU(True))\n",
    "        self.layer3 = nn.Sequential(nn.Linear(n_hidden_2, out_dim))\n",
    "\n",
    "    def forward(self, x):\n",
    "        x = self.layer1(x)\n",
    "        x = self.layer2(x)\n",
    "        x = self.layer3(x)\n",
    "        return x\n",
    "\n",
    "class CNN(nn.Module):\n",
    "    def __init__(self):\n",
    "        super(CNN, self).__init__()\n",
    "        self.layer1 = nn.Sequential(\n",
    "            nn.Conv2d(1, 25, kernel_size=3),\n",
    "            nn.BatchNorm2d(25),\n",
    "            nn.ReLU(inplace=True)\n",
    "        )\n",
    "\n",
    "        self.layer2 = nn.Sequential(\n",
    "            nn.MaxPool2d(kernel_size=2, stride=2)\n",
    "        )\n",
    "\n",
    "        self.layer3 = nn.Sequential(\n",
    "            nn.Conv2d(25, 50, kernel_size=3),\n",
    "            nn.BatchNorm2d(50),\n",
    "            nn.ReLU(inplace=True)\n",
    "        )\n",
    "\n",
    "        self.layer4 = nn.Sequential(\n",
    "            nn.MaxPool2d(kernel_size=2, stride=2)\n",
    "        )\n",
    "\n",
    "        self.fc = nn.Sequential(\n",
    "            nn.Linear(50 * 5 * 5, 1024),\n",
    "            nn.ReLU(inplace=True),\n",
    "            nn.Linear(1024, 128),\n",
    "            nn.ReLU(inplace=True),\n",
    "            nn.Linear(128, 10)\n",
    "        )\n",
    "\n",
    "    def forward(self, x):\n",
    "        x = self.layer1(x)\n",
    "        x = self.layer2(x)\n",
    "        x = self.layer3(x)\n",
    "        x = self.layer4(x)\n",
    "        x = x.view(x.size(0), -1)\n",
    "        x = self.fc(x)\n",
    "        return x\n",
    "\n",
    "\n"
   ]
  },
  {
   "cell_type": "code",
   "execution_count": 91,
   "metadata": {},
   "outputs": [
    {
     "name": "stdout",
     "output_type": "stream",
     "text": [
      "Activation_Net(\n",
      "  (layer1): Sequential(\n",
      "    (0): Linear(in_features=784, out_features=300, bias=True)\n",
      "    (1): ReLU(inplace)\n",
      "  )\n",
      "  (layer2): Sequential(\n",
      "    (0): Linear(in_features=300, out_features=100, bias=True)\n",
      "    (1): ReLU(inplace)\n",
      "  )\n",
      "  (layer3): Sequential(\n",
      "    (0): Linear(in_features=100, out_features=10, bias=True)\n",
      "  )\n",
      ")\n",
      "epoch: 50, loss: 2.1\n",
      "epoch: 100, loss: 1.655\n",
      "epoch: 150, loss: 1.258\n",
      "epoch: 200, loss: 0.9041\n",
      "epoch: 250, loss: 0.7282\n",
      "epoch: 300, loss: 0.5281\n",
      "epoch: 350, loss: 0.6284\n",
      "epoch: 400, loss: 0.4132\n",
      "epoch: 450, loss: 0.3317\n",
      "epoch: 500, loss: 0.4234\n",
      "epoch: 550, loss: 0.5111\n",
      "epoch: 600, loss: 0.382\n",
      "epoch: 650, loss: 0.204\n",
      "epoch: 700, loss: 0.4325\n",
      "epoch: 750, loss: 0.3752\n",
      "epoch: 800, loss: 0.3803\n",
      "epoch: 850, loss: 0.1474\n",
      "epoch: 900, loss: 0.4048\n",
      "Test Loss: 0.342696, Acc: 0.899200\n"
     ]
    }
   ],
   "source": [
    "    \n",
    "# 选择模型\n",
    "#model = simpleNet(28 * 28, 300, 100, 10)\n",
    "model = Activation_Net(28 * 28, 300, 100, 10)\n",
    "# model = Batch_Net(28 * 28, 300, 100, 10)\n",
    "# model = CNN()\n",
    "print(model)\n",
    "if torch.cuda.is_available():\n",
    "    model = model.cuda()\n",
    "\n",
    "# 定义损失函数和优化器\n",
    "criterion = nn.CrossEntropyLoss()\n",
    "optimizer = optim.SGD(model.parameters(), lr=learning_rate)\n",
    "\n",
    "# 训练模型\n",
    "epoch = 0\n",
    "for data in train_loader:\n",
    "    img, label = data\n",
    "    img = img.view(img.size(0), -1)\n",
    "    if torch.cuda.is_available():\n",
    "        img = img.cuda()\n",
    "        label = label.cuda()\n",
    "    else:\n",
    "        img = Variable(img)\n",
    "        label = Variable(label)\n",
    "    out = model(img)\n",
    "    loss = criterion(out, label)\n",
    "    print_loss = loss.data.item()\n",
    "\n",
    "    optimizer.zero_grad()\n",
    "    loss.backward()\n",
    "    optimizer.step()\n",
    "    epoch+=1\n",
    "    if epoch%50 == 0:\n",
    "        print('epoch: {}, loss: {:.4}'.format(epoch, loss.data.item()))\n",
    "\n",
    "# 模型评估\n",
    "\n",
    "eval_loss = 0\n",
    "eval_acc = 0\n",
    "for data in test_loader:\n",
    "    img, label = data\n",
    "    img = img.view(img.size(0), -1)\n",
    "    if torch.cuda.is_available():\n",
    "        img = img.cuda()\n",
    "        label = label.cuda()\n",
    "\n",
    "    out = model(img)\n",
    "    loss = criterion(out, label)\n",
    "    eval_loss += loss.data.item()*label.size(0)\n",
    "    _, pred = torch.max(out, 1)\n",
    "    num_correct = (pred == label).sum()\n",
    "    eval_acc += num_correct.item()\n",
    "print('Test Loss: {:.6f}, Acc: {:.6f}'.format(\n",
    "    eval_loss / (len(test_dataset)),\n",
    "    eval_acc / (len(test_dataset))\n",
    "))"
   ]
  },
  {
   "cell_type": "code",
   "execution_count": 92,
   "metadata": {},
   "outputs": [
    {
     "name": "stdout",
     "output_type": "stream",
     "text": [
      "[('layer1.0.weight', Parameter containing:\n",
      "tensor([[-0.0335, -0.0255, -0.0228,  ..., -0.0371, -0.0276,  0.0125],\n",
      "        [-0.0256, -0.0007, -0.0148,  ..., -0.0348, -0.0214,  0.0233],\n",
      "        [ 0.0133,  0.0210,  0.0086,  ...,  0.0092,  0.0178,  0.0200],\n",
      "        ...,\n",
      "        [-0.0065,  0.0260, -0.0099,  ...,  0.0071, -0.0314,  0.0162],\n",
      "        [-0.0218,  0.0219,  0.0298,  ..., -0.0098, -0.0252,  0.0178],\n",
      "        [ 0.0310, -0.0187,  0.0068,  ..., -0.0068, -0.0119, -0.0068]],\n",
      "       device='cuda:0', requires_grad=True)), ('layer1.0.bias', Parameter containing:\n",
      "tensor([ 8.3248e-03,  2.1099e-02,  2.5256e-02, -2.0733e-02,  1.2355e-03,\n",
      "         1.5506e-02, -2.4191e-03,  3.5617e-02, -2.0988e-02,  3.1686e-02,\n",
      "         9.4324e-03, -1.7808e-02,  3.0531e-02, -8.3421e-03,  3.3105e-02,\n",
      "         1.0135e-02, -2.1866e-02,  5.1137e-03,  1.0278e-02,  2.6977e-02,\n",
      "        -2.4981e-02,  3.5802e-02,  6.3323e-03,  3.0546e-04, -2.5390e-03,\n",
      "         3.2042e-02,  1.6512e-02, -1.0239e-02, -3.0380e-02, -1.5030e-02,\n",
      "         3.3502e-02, -2.1033e-02,  1.6063e-02,  3.1396e-03, -3.9628e-03,\n",
      "         2.1515e-02,  5.4236e-03, -5.1102e-03,  6.4976e-03,  1.8985e-02,\n",
      "         9.1141e-03,  3.3738e-02,  1.4437e-02, -1.0801e-02,  1.4347e-02,\n",
      "        -2.4922e-02,  3.0770e-02,  2.8684e-02,  3.5099e-02,  3.0969e-02,\n",
      "         3.4502e-02, -3.3751e-02, -1.2136e-02, -2.6025e-02,  2.9897e-02,\n",
      "        -2.8401e-02,  9.1037e-03,  8.3079e-03,  2.1487e-02,  1.4586e-02,\n",
      "        -3.0114e-02, -2.0414e-02, -9.8291e-03, -1.8166e-02,  2.4846e-02,\n",
      "        -2.5482e-03,  2.3897e-02, -2.1236e-02, -1.1890e-02, -1.2122e-02,\n",
      "         6.9369e-03,  1.3780e-04,  2.8823e-02, -1.8334e-02,  1.8056e-02,\n",
      "        -5.3325e-03,  8.0964e-03,  3.4051e-02,  9.7810e-03,  1.7305e-02,\n",
      "         2.9279e-02, -2.6431e-02,  3.3658e-02,  3.5830e-02,  2.4379e-02,\n",
      "        -3.0275e-02,  3.6083e-02, -1.8172e-02,  5.0269e-03,  3.4697e-02,\n",
      "        -2.3442e-02, -2.3650e-02, -9.6986e-03, -7.7588e-03,  2.9453e-02,\n",
      "        -1.1186e-02,  6.7376e-03, -2.2220e-02,  2.5488e-02,  2.3795e-02,\n",
      "         2.6121e-02, -2.8015e-02, -3.2911e-02,  1.7940e-03,  1.2918e-02,\n",
      "        -2.1885e-02,  2.7646e-02,  9.5014e-03,  3.0054e-02, -3.1296e-02,\n",
      "         9.8430e-03,  7.1193e-03,  3.7485e-03,  4.8815e-03,  3.5928e-02,\n",
      "        -5.4979e-03,  3.1850e-02,  3.0262e-03,  1.9231e-02,  3.3048e-02,\n",
      "        -2.1443e-02,  6.6334e-03, -2.9392e-02,  2.5067e-02,  1.1849e-02,\n",
      "        -9.2053e-03,  3.7156e-02,  2.0261e-02,  3.0637e-02,  1.2392e-02,\n",
      "        -1.5826e-02,  3.4425e-02,  5.5602e-03, -2.0437e-02, -3.1576e-03,\n",
      "        -1.2100e-02,  1.3674e-02, -1.5267e-02, -2.2552e-02,  4.7346e-03,\n",
      "        -4.9165e-03,  2.7503e-02,  9.3206e-03, -2.5421e-02,  1.9576e-02,\n",
      "         1.5521e-02,  2.0660e-02,  1.6251e-02, -6.9407e-03,  3.5209e-02,\n",
      "         4.3190e-03,  3.7431e-03, -1.1715e-02, -1.9634e-02, -5.5968e-04,\n",
      "        -5.8847e-03, -5.5107e-03, -1.3815e-02, -5.1963e-04, -2.7978e-03,\n",
      "         1.6615e-02, -9.2084e-03,  6.4728e-05,  3.5088e-02, -2.2053e-02,\n",
      "         2.0966e-02,  3.4327e-02,  2.3283e-02,  4.0111e-03,  2.7747e-03,\n",
      "         3.2877e-02, -1.7617e-02, -1.0234e-02, -2.8643e-02, -1.4180e-02,\n",
      "        -1.3474e-02, -3.5093e-02, -3.4385e-02,  5.5438e-03,  6.2680e-03,\n",
      "        -2.8385e-02,  1.7041e-02, -2.8438e-02,  1.8946e-02, -1.0060e-02,\n",
      "         2.9820e-02,  1.4857e-02, -2.5232e-03, -1.4269e-02,  6.8375e-04,\n",
      "         3.1346e-03, -1.3974e-02,  3.8349e-03,  3.3397e-02,  3.2311e-02,\n",
      "         1.7549e-02,  1.3320e-02, -2.1149e-02, -2.6717e-02,  2.0974e-02,\n",
      "         9.2421e-03,  1.0276e-02,  1.1754e-02,  5.4687e-03,  4.3946e-04,\n",
      "        -8.7916e-03,  1.9262e-02, -8.4928e-03, -3.2313e-02, -2.1543e-02,\n",
      "         8.3220e-03, -1.5283e-02,  2.5991e-02,  1.8517e-02, -5.3392e-03,\n",
      "         1.9397e-03, -3.3465e-02, -3.5268e-02,  4.6226e-03, -1.3291e-02,\n",
      "         1.4128e-03, -9.0214e-03,  8.5971e-03, -1.8022e-02,  4.5332e-03,\n",
      "        -1.8626e-02, -2.6967e-02,  2.8261e-02,  8.0727e-03, -2.4656e-02,\n",
      "         1.6752e-02, -1.5267e-03,  1.3485e-02,  2.5711e-02, -2.5326e-02,\n",
      "         2.6901e-02,  2.8990e-02,  2.3506e-02,  5.9819e-03,  1.3671e-02,\n",
      "        -2.3040e-02, -3.0473e-02,  2.0337e-02, -2.6443e-02, -7.7473e-03,\n",
      "         9.9047e-04,  2.4382e-02,  2.4146e-02,  2.8662e-02,  1.5661e-02,\n",
      "         1.0571e-02,  3.7966e-02, -1.3180e-02, -1.9362e-02,  5.7154e-03,\n",
      "        -1.5231e-02, -1.7487e-02,  7.3916e-03,  3.1126e-02,  3.4267e-03,\n",
      "         2.2765e-02,  8.9188e-03,  6.8014e-03, -3.5219e-02, -1.1418e-02,\n",
      "         1.7487e-02,  3.3810e-02, -1.2518e-03,  2.2740e-02,  3.6324e-02,\n",
      "         2.6806e-02,  1.8221e-02, -2.0564e-03, -1.0284e-02, -1.0308e-02,\n",
      "        -7.8747e-03, -2.5641e-02,  2.3176e-02,  1.0848e-02, -1.0266e-02,\n",
      "         5.8682e-03, -2.9897e-02, -1.0241e-02,  3.2739e-02,  2.1719e-02,\n",
      "         2.9540e-03, -2.8164e-02, -2.2799e-02,  2.1458e-02, -4.9950e-03,\n",
      "         2.3106e-03, -1.9189e-02, -1.2136e-02,  8.3377e-03,  2.5780e-02,\n",
      "         1.5332e-02, -3.2993e-02, -2.8208e-02, -2.8914e-02, -8.0605e-03],\n",
      "       device='cuda:0', requires_grad=True)), ('layer2.0.weight', Parameter containing:\n",
      "tensor([[ 0.0109,  0.0191,  0.0088,  ..., -0.0453,  0.0070, -0.0312],\n",
      "        [ 0.0523, -0.0196, -0.0381,  ...,  0.0415,  0.0073,  0.0811],\n",
      "        [ 0.0449, -0.0182, -0.0449,  ...,  0.0371, -0.0432, -0.0075],\n",
      "        ...,\n",
      "        [-0.0116,  0.0522,  0.0386,  ..., -0.0390, -0.0380, -0.0026],\n",
      "        [ 0.0442,  0.0315,  0.0391,  ...,  0.0487,  0.0454, -0.0345],\n",
      "        [-0.0066,  0.0190,  0.0119,  ..., -0.0260, -0.0171, -0.0316]],\n",
      "       device='cuda:0', requires_grad=True)), ('layer2.0.bias', Parameter containing:\n",
      "tensor([ 0.0470,  0.0168,  0.0263,  0.0402,  0.0279, -0.0430,  0.0194,  0.0310,\n",
      "         0.0175,  0.0106, -0.0498, -0.0416,  0.0049,  0.0345,  0.0369, -0.0489,\n",
      "         0.0425,  0.0332,  0.0330,  0.0044,  0.0450,  0.0585,  0.0015, -0.0337,\n",
      "        -0.0387, -0.0334, -0.0439,  0.0209, -0.0447, -0.0047,  0.0318,  0.0087,\n",
      "        -0.0389,  0.0190, -0.0307, -0.0446, -0.0422,  0.0171,  0.0573,  0.0095,\n",
      "         0.0420,  0.0433, -0.0126,  0.0260,  0.0612,  0.0588, -0.0458,  0.0439,\n",
      "        -0.0158,  0.0077, -0.0566,  0.0519, -0.0344,  0.0545, -0.0008, -0.0322,\n",
      "        -0.0501,  0.0347,  0.0542,  0.0109, -0.0241,  0.0366,  0.0417,  0.0555,\n",
      "         0.0054, -0.0175, -0.0396,  0.0308, -0.0162, -0.0375, -0.0386,  0.0275,\n",
      "        -0.0498, -0.0504, -0.0098,  0.0148, -0.0434, -0.0040,  0.0616,  0.0201,\n",
      "         0.0134,  0.0399, -0.0300, -0.0145,  0.0295, -0.0308,  0.0358,  0.0572,\n",
      "         0.0576,  0.0448, -0.0116,  0.0232,  0.0388, -0.0535,  0.0018, -0.0117,\n",
      "         0.0293, -0.0528,  0.0565, -0.0078], device='cuda:0',\n",
      "       requires_grad=True)), ('layer3.0.weight', Parameter containing:\n",
      "tensor([[ 3.0134e-02,  1.0300e-01,  9.1664e-02, -1.7267e-02, -1.8791e-01,\n",
      "          1.0438e-02, -3.2317e-02, -6.4136e-02,  1.2045e-01,  9.4634e-02,\n",
      "          2.7583e-02,  2.6010e-02, -9.5734e-02, -1.8281e-01,  5.7256e-02,\n",
      "         -5.0799e-02, -5.1459e-02, -5.2428e-02, -1.9964e-01, -2.4098e-02,\n",
      "          3.6454e-02, -7.9644e-02,  7.8213e-02,  1.5126e-01, -9.7596e-02,\n",
      "          2.0938e-02, -2.2410e-01,  1.6479e-01,  1.5382e-01, -5.3119e-02,\n",
      "          2.3625e-01,  1.4048e-01, -4.1890e-02,  1.6337e-01, -1.7180e-01,\n",
      "          2.0232e-01,  1.7266e-01,  1.2065e-01,  9.1482e-02,  8.4880e-02,\n",
      "         -2.1807e-01,  1.0308e-01, -6.0937e-02, -7.5361e-02,  5.8324e-02,\n",
      "          1.1915e-01, -1.0024e-01,  4.9568e-02,  9.6498e-02,  3.4228e-03,\n",
      "          4.7503e-02,  1.3433e-02,  6.5117e-02,  8.5620e-02, -2.0248e-01,\n",
      "          3.9883e-02, -1.9082e-02, -1.9843e-01,  1.4206e-01, -9.7102e-02,\n",
      "          3.5010e-03,  3.9281e-02, -2.6558e-01,  7.9050e-02,  6.2545e-02,\n",
      "          1.2180e-01,  1.5801e-01, -2.1909e-03,  7.4481e-02, -3.0085e-02,\n",
      "         -8.7422e-02, -4.9266e-02,  5.6128e-03, -1.2323e-01, -1.8715e-02,\n",
      "         -8.2787e-02,  1.6452e-01, -1.9858e-01, -8.1344e-02,  4.5473e-02,\n",
      "         -3.2513e-02,  1.3914e-01, -1.0917e-01, -9.1645e-03, -5.5230e-02,\n",
      "         -1.2630e-02, -4.5253e-02,  1.7664e-01,  1.3133e-02, -1.7670e-01,\n",
      "          9.3731e-02,  5.0622e-02, -1.8348e-01, -7.7334e-02, -2.2603e-01,\n",
      "         -7.1937e-02,  6.1649e-02, -1.8219e-01, -5.1474e-02,  1.8593e-01],\n",
      "        [-1.2131e-01, -1.0658e-01,  1.1809e-02, -9.0245e-02,  5.5639e-02,\n",
      "          4.8330e-02,  8.0547e-02,  8.0457e-02, -1.1174e-01, -1.6234e-02,\n",
      "         -8.9959e-02, -5.7176e-02, -9.4945e-02,  3.0728e-02,  6.7738e-02,\n",
      "         -5.7923e-02,  7.8680e-02, -8.5222e-02,  1.6221e-01, -6.4113e-02,\n",
      "         -1.5854e-01,  1.8972e-01, -3.5077e-02,  2.2543e-01, -1.8487e-01,\n",
      "          6.3615e-02, -4.9319e-02, -2.1070e-01,  1.3613e-01,  1.3683e-01,\n",
      "          5.2317e-02,  3.0270e-02,  5.9946e-02, -1.2610e-01, -1.5210e-01,\n",
      "         -2.3131e-01, -2.1430e-02, -2.0809e-01, -1.0713e-01,  8.6803e-03,\n",
      "         -7.5070e-02, -8.3256e-02, -8.0987e-02,  4.1265e-02,  1.2650e-02,\n",
      "         -6.7002e-02,  1.3639e-01,  1.4941e-02, -3.2508e-02, -6.1549e-02,\n",
      "         -3.1189e-02,  1.3528e-01,  5.2405e-02, -1.8425e-01,  8.5344e-02,\n",
      "         -8.8075e-02,  1.3242e-01,  2.6684e-01,  3.2208e-02, -1.0438e-03,\n",
      "         -1.7186e-02,  1.5098e-02,  1.2800e-01, -2.4780e-02,  1.3431e-01,\n",
      "         -1.3590e-01,  4.3608e-02, -3.7233e-02, -4.3168e-02,  5.7337e-02,\n",
      "          4.6560e-02, -7.7914e-02, -1.8885e-02,  1.4664e-01,  4.2725e-03,\n",
      "          3.7356e-02, -2.1644e-01,  7.9640e-02, -2.4624e-01, -3.6339e-02,\n",
      "          1.7844e-01, -2.5604e-01,  9.4093e-02, -5.4925e-02, -1.6555e-01,\n",
      "          3.6533e-02,  9.5459e-02, -1.0828e-01,  6.9871e-02,  1.5908e-01,\n",
      "          8.7429e-02,  2.6217e-02,  2.2978e-01,  2.4215e-02,  6.1818e-02,\n",
      "         -2.5570e-02, -6.7248e-02,  3.2639e-02, -1.5074e-01, -1.9438e-01],\n",
      "        [ 1.7078e-01, -1.8668e-01,  8.0101e-02,  1.9741e-02, -9.0343e-02,\n",
      "         -1.2862e-01, -6.0540e-03, -8.1661e-02,  9.8853e-02, -3.5413e-02,\n",
      "         -7.4490e-03, -3.3218e-02, -9.8129e-02, -1.4064e-01, -5.7200e-02,\n",
      "         -1.1992e-01,  5.1237e-02, -4.9254e-02, -1.0085e-01, -5.3695e-02,\n",
      "          1.3211e-01,  1.8979e-01,  2.0259e-02,  2.3725e-02,  2.0995e-01,\n",
      "          5.6399e-02,  2.2270e-01,  1.8950e-02,  1.1184e-02,  1.8400e-01,\n",
      "         -9.2379e-02, -7.9105e-02,  9.3266e-02,  1.2696e-01, -2.5444e-01,\n",
      "         -1.6170e-01, -9.4336e-02,  5.8653e-02,  1.6321e-01, -3.5324e-02,\n",
      "          1.2927e-01,  1.0289e-01, -2.1125e-02, -9.7874e-02, -6.9616e-02,\n",
      "          2.1425e-01,  1.0034e-01, -9.3030e-02,  9.3881e-02,  6.7374e-02,\n",
      "         -9.1290e-02,  1.3462e-01, -4.9486e-02, -6.2467e-02, -5.1459e-02,\n",
      "         -1.4596e-02,  7.1683e-02,  1.0263e-01, -1.9026e-01, -7.9343e-03,\n",
      "          2.2661e-01,  1.0061e-01,  1.1515e-01,  7.3819e-02, -1.1351e-02,\n",
      "          7.0153e-03,  1.3405e-01, -1.7377e-02,  2.4985e-02, -8.1505e-02,\n",
      "         -3.8019e-02, -3.8218e-02,  9.8055e-02, -2.0731e-01,  1.6177e-01,\n",
      "          5.7474e-02, -6.8247e-03, -1.3107e-01,  7.5580e-02,  1.5937e-01,\n",
      "         -8.8650e-02,  6.8943e-02, -8.9147e-02,  6.4015e-02, -1.9644e-01,\n",
      "          8.8575e-02,  7.8377e-02, -8.6995e-02,  1.6702e-02,  1.4503e-01,\n",
      "          1.1948e-01,  9.5597e-02, -8.3247e-02, -2.1142e-02, -1.5429e-01,\n",
      "          6.1556e-02, -1.0506e-02,  7.3452e-02,  4.0693e-02,  1.2096e-01],\n",
      "        [ 1.3484e-01,  3.5141e-02,  6.4833e-03, -4.2889e-02, -1.1470e-01,\n",
      "         -1.1469e-01,  5.6453e-02,  1.7501e-02,  1.6009e-01, -1.1242e-01,\n",
      "          8.5704e-03, -7.9810e-02,  3.8157e-02,  4.3679e-03, -5.2016e-02,\n",
      "         -1.0971e-01,  1.4169e-01, -1.0894e-01,  8.6674e-02,  1.6152e-01,\n",
      "          8.1297e-02, -7.3810e-02,  1.4795e-01, -1.0421e-01,  2.3480e-02,\n",
      "          5.6040e-02, -1.6727e-01, -1.0519e-01,  6.4213e-03,  2.0029e-01,\n",
      "         -3.7288e-02,  1.6975e-01, -1.7449e-01,  2.5846e-02,  1.4510e-01,\n",
      "         -9.4265e-02,  1.4516e-02, -1.0465e-01, -2.6313e-02,  9.3712e-02,\n",
      "          8.9528e-02,  2.8551e-01, -1.0515e-03,  7.6282e-02,  1.7919e-01,\n",
      "          4.3445e-02, -7.0859e-02, -2.2721e-01,  4.7951e-02, -5.9896e-02,\n",
      "         -5.6946e-03, -6.8816e-02,  3.4345e-02, -1.7539e-01, -1.0487e-02,\n",
      "         -1.1245e-02,  1.1031e-01,  6.5469e-02, -2.3075e-01, -9.8712e-02,\n",
      "         -2.4671e-01,  2.0916e-01,  1.2731e-01,  8.3747e-02, -4.9255e-02,\n",
      "         -9.5468e-02, -3.4092e-02, -4.5581e-02,  9.3425e-03, -1.4432e-02,\n",
      "          2.6945e-02, -1.6923e-02,  5.4390e-02,  1.4910e-02, -6.9212e-04,\n",
      "         -2.4830e-01, -2.7607e-02,  6.4339e-02,  1.9072e-02,  2.2501e-01,\n",
      "         -1.8769e-01,  2.5149e-03, -5.8516e-02, -3.7647e-02,  1.2025e-01,\n",
      "          3.3094e-02,  3.2673e-02,  6.2642e-02,  1.1338e-01,  1.4192e-01,\n",
      "         -2.5792e-03,  1.6718e-04,  1.7705e-01,  6.3383e-02, -6.5122e-02,\n",
      "         -7.6290e-03,  1.4442e-01, -9.0117e-02,  1.3006e-01, -2.4604e-02],\n",
      "        [ 1.0584e-02,  1.2038e-01,  4.1665e-02, -1.3800e-02,  3.2225e-02,\n",
      "         -1.1950e-01,  2.7974e-02,  2.2988e-03, -2.5254e-02,  9.4823e-02,\n",
      "          8.6962e-02, -8.1194e-02,  2.5186e-01,  1.1967e-01,  1.5096e-02,\n",
      "         -6.4805e-02,  8.7559e-02, -9.3701e-02,  3.6724e-02,  8.3507e-02,\n",
      "          9.5420e-02, -1.9274e-01, -1.8771e-01, -1.0826e-01, -9.9392e-03,\n",
      "         -6.6796e-02,  1.2645e-01,  4.4618e-02, -2.4163e-01, -2.5091e-01,\n",
      "         -6.8947e-02, -1.2740e-01, -8.8665e-02, -1.4854e-01,  2.0699e-01,\n",
      "          5.1984e-02, -1.2524e-01, -3.7794e-03, -8.5386e-02,  5.2947e-02,\n",
      "          9.6355e-02, -2.3563e-01,  6.8571e-02, -5.1383e-02, -1.6221e-02,\n",
      "          6.0182e-02, -1.3854e-01, -1.2717e-01, -6.6596e-02, -1.9835e-02,\n",
      "          4.3060e-02, -1.8558e-02, -1.1355e-01,  7.5629e-02, -1.3340e-01,\n",
      "          2.8467e-02,  8.1301e-02, -1.0400e-01,  9.9296e-03,  9.6651e-02,\n",
      "          1.2216e-01, -1.8467e-01, -4.4732e-02,  9.8130e-02, -9.4444e-02,\n",
      "         -1.4500e-01, -1.3607e-01, -8.1909e-03, -3.7285e-02, -2.8538e-02,\n",
      "          1.4387e-03,  7.8280e-02,  5.9454e-02, -7.1125e-03,  1.4469e-01,\n",
      "          3.2954e-01,  1.7278e-01,  2.7484e-01,  1.9010e-01,  2.5266e-02,\n",
      "          1.3822e-01,  8.5775e-02, -4.3472e-02,  2.7455e-02,  1.9537e-01,\n",
      "          4.6050e-02, -4.2472e-02, -2.0285e-02, -1.1117e-01, -1.0691e-01,\n",
      "         -1.1152e-01,  3.1552e-02,  1.0210e-01, -7.8009e-02,  9.4088e-03,\n",
      "         -5.3232e-02, -1.4872e-02,  1.6504e-02, -1.4218e-01, -3.9930e-02],\n",
      "        [-9.5271e-02, -3.5633e-02, -4.9011e-02,  8.2743e-03, -1.8091e-01,\n",
      "          5.9112e-02, -3.2641e-02,  3.5158e-02,  1.4900e-01,  8.4534e-02,\n",
      "         -1.8527e-02, -9.1496e-02, -1.2971e-01,  4.4093e-02, -4.0917e-02,\n",
      "          8.3483e-02,  2.3505e-02,  7.4518e-02,  2.6226e-02, -2.4950e-02,\n",
      "         -1.7219e-01, -9.1224e-02,  8.6614e-02, -1.4052e-01, -6.7278e-02,\n",
      "          7.9773e-02, -1.9668e-01, -7.2238e-02,  1.0815e-01,  1.0390e-01,\n",
      "         -1.4923e-02,  5.4828e-02, -1.0814e-01,  1.7519e-01,  2.1332e-01,\n",
      "          2.1961e-01,  2.0757e-01,  1.8379e-01,  1.8451e-02,  2.5449e-02,\n",
      "          1.2512e-01, -2.6533e-02, -1.3468e-02,  2.5004e-02, -1.0521e-01,\n",
      "         -2.0910e-02, -1.2130e-01, -3.6918e-02, -5.4687e-02,  1.2425e-02,\n",
      "         -2.6015e-02, -1.9796e-02, -3.6792e-02,  1.8570e-01, -5.1618e-02,\n",
      "          7.2161e-02,  7.9393e-02,  5.1170e-03,  5.5445e-02,  2.4769e-02,\n",
      "         -1.2121e-01,  8.0926e-02,  3.4723e-02, -4.7717e-03,  9.6543e-02,\n",
      "         -1.5100e-01,  3.3305e-02, -7.9141e-02, -4.5530e-02, -6.2611e-02,\n",
      "         -8.8920e-02, -6.0045e-02, -3.2252e-02,  2.3053e-01,  3.0345e-02,\n",
      "         -6.9791e-02, -2.0187e-02,  2.9916e-03, -1.4357e-01, -4.4823e-02,\n",
      "          5.9750e-02,  1.1750e-01,  1.1828e-01,  2.4761e-02,  7.2407e-02,\n",
      "         -6.2258e-02, -5.0883e-02, -1.2769e-01, -1.8811e-02, -1.9707e-01,\n",
      "         -1.0583e-01,  4.6446e-02, -1.1464e-01,  7.5857e-02,  9.8894e-02,\n",
      "          8.1279e-02,  1.2497e-01,  9.8580e-02, -4.3566e-02,  1.1982e-01],\n",
      "        [-3.7489e-02,  1.7625e-02, -6.1536e-02, -3.4443e-02, -1.8415e-01,\n",
      "          8.0340e-02,  6.9483e-02,  5.4330e-02, -2.7808e-02,  1.4264e-01,\n",
      "          7.3299e-02,  9.7034e-03, -9.1410e-02, -4.4912e-02,  9.0334e-02,\n",
      "          1.2968e-02,  7.8069e-02,  9.6559e-02,  7.1811e-02, -9.3662e-02,\n",
      "          1.3050e-01,  1.8155e-01, -1.6509e-01, -7.8827e-02, -5.0675e-03,\n",
      "          6.9862e-02,  1.0555e-01, -1.5093e-01,  2.5635e-02, -1.5907e-01,\n",
      "         -1.2035e-01, -1.5233e-01,  2.2721e-02,  4.9553e-03,  4.5904e-02,\n",
      "          1.0591e-01, -5.8006e-02,  4.6534e-02,  9.9561e-02, -5.0857e-02,\n",
      "         -2.4247e-01, -2.2818e-01, -8.5753e-02,  5.4687e-02, -2.6078e-02,\n",
      "         -2.0505e-01,  2.4726e-01,  1.5520e-01,  5.6625e-02, -7.5062e-02,\n",
      "         -4.3414e-02,  5.9615e-02, -1.9190e-01, -1.2049e-01,  2.6640e-01,\n",
      "         -4.7177e-02, -3.9713e-02, -9.5574e-02,  1.2815e-01, -6.8020e-02,\n",
      "          1.4056e-01,  1.0123e-01,  6.6791e-02, -4.7921e-02, -1.3693e-01,\n",
      "          7.3512e-02,  2.1345e-01,  1.8085e-01,  1.1948e-02,  8.4336e-02,\n",
      "          3.3076e-02,  4.4908e-02,  9.7189e-02, -7.1344e-02,  1.2193e-01,\n",
      "          2.5032e-01, -7.4301e-04,  1.0610e-01, -2.7513e-02, -4.4679e-02,\n",
      "         -2.7681e-01,  1.3794e-01, -1.2401e-01, -6.7270e-02,  5.1799e-02,\n",
      "         -1.0095e-01, -5.9107e-02,  1.0645e-01, -6.3327e-02,  1.8433e-03,\n",
      "         -8.3416e-02,  6.4300e-02, -2.0244e-01, -4.9256e-02,  1.9157e-03,\n",
      "         -3.7639e-02, -1.4773e-01, -1.3460e-01,  2.5295e-02,  1.6081e-01],\n",
      "        [ 3.5489e-02,  6.0714e-02,  6.9537e-02, -4.8379e-02,  2.4090e-01,\n",
      "          1.1529e-01, -2.8046e-03,  9.1105e-02, -1.7157e-01,  3.1341e-02,\n",
      "          3.0498e-02, -4.1497e-02,  9.8541e-02,  1.2591e-01, -9.1628e-02,\n",
      "          1.8489e-01,  1.9765e-02,  1.0058e-01,  2.1352e-02,  2.2831e-01,\n",
      "         -6.8731e-02,  1.1097e-01, -3.1552e-02,  4.3569e-02,  1.1133e-01,\n",
      "          7.0978e-02, -1.9973e-02, -1.8176e-01,  4.0406e-02,  5.3366e-02,\n",
      "         -1.6392e-01, -4.1426e-03, -1.1669e-01,  2.4454e-02, -1.3510e-01,\n",
      "         -1.6428e-01,  6.2622e-02, -1.4765e-01,  1.6585e-01,  5.6808e-02,\n",
      "          3.3192e-03,  1.4389e-02, -1.4602e-02, -1.1851e-02,  3.0835e-02,\n",
      "         -1.0813e-01, -4.5619e-02, -2.8041e-02,  2.0300e-02, -3.7158e-02,\n",
      "         -3.2014e-02,  7.1962e-03,  2.0557e-01,  1.4893e-01, -1.6583e-01,\n",
      "          7.1539e-02, -4.8637e-02, -1.0194e-01, -1.7872e-01,  8.8640e-02,\n",
      "         -2.6606e-01, -5.6756e-02, -1.2258e-01, -8.6914e-03, -2.5413e-02,\n",
      "          1.4432e-01, -1.6626e-01,  9.3609e-02, -5.5206e-02, -1.3597e-02,\n",
      "         -3.4041e-02,  1.9184e-02,  7.8957e-02, -1.3439e-01, -1.5176e-01,\n",
      "         -1.5765e-01,  1.4098e-01,  5.5686e-03,  2.4172e-01, -1.9062e-01,\n",
      "          3.3816e-01, -7.1361e-02, -1.3192e-01, -2.6419e-02, -1.9415e-01,\n",
      "         -1.0633e-02,  5.1663e-02,  2.2350e-01,  2.0036e-01, -1.1538e-01,\n",
      "         -1.8993e-02,  3.8076e-02,  3.6777e-02, -1.3406e-02,  9.3050e-02,\n",
      "         -2.9761e-02, -7.1941e-02,  1.3510e-01,  1.8300e-02, -2.0419e-01],\n",
      "        [-1.1148e-01,  9.7602e-02, -1.1001e-02, -4.3010e-02, -1.0842e-03,\n",
      "         -3.6391e-02, -9.2053e-02, -9.3253e-02,  7.6732e-03, -7.8189e-02,\n",
      "         -2.8650e-02, -2.8360e-02, -7.8164e-02,  1.2736e-01,  6.2432e-02,\n",
      "         -5.9242e-02, -1.1361e-01,  2.0710e-01, -1.0249e-01, -1.8852e-01,\n",
      "         -1.0155e-01, -4.1455e-04,  4.3798e-02,  3.1860e-02, -3.1947e-02,\n",
      "         -2.1857e-02,  2.3042e-02,  1.4749e-01,  6.1859e-02, -4.9193e-02,\n",
      "          2.0117e-01,  3.7710e-02,  2.5954e-01, -7.3707e-02,  8.0050e-02,\n",
      "         -1.7852e-01,  1.5071e-01,  8.1263e-02,  6.0302e-02, -7.4285e-02,\n",
      "          5.1041e-02,  2.0543e-01, -2.3011e-05, -6.4389e-03,  1.2832e-01,\n",
      "         -2.1287e-02, -7.9534e-02,  4.2708e-02,  9.8419e-02,  2.7645e-03,\n",
      "         -8.1595e-02, -9.1798e-02, -4.2390e-02, -1.3733e-02,  2.0721e-02,\n",
      "          4.0891e-02, -1.2566e-01, -1.3526e-01, -5.2837e-02, -2.9792e-02,\n",
      "          1.4505e-01, -7.7578e-02,  1.9813e-01,  8.0061e-02,  1.1474e-01,\n",
      "          1.1430e-02, -7.3219e-02,  2.2354e-02, -5.0967e-02,  1.1838e-01,\n",
      "          5.1077e-02,  2.8516e-02,  6.9086e-03, -3.5849e-02,  8.5312e-03,\n",
      "          2.6085e-02,  5.0664e-02, -1.0162e-01, -2.3526e-01,  7.0269e-02,\n",
      "         -1.0669e-01,  8.4565e-02,  1.8117e-01,  2.9189e-02,  1.1266e-01,\n",
      "         -9.1007e-03,  4.9413e-02, -1.9801e-01,  4.0905e-03,  1.0376e-01,\n",
      "          8.1899e-02, -8.7131e-04, -4.1393e-02,  7.2323e-02,  1.6068e-01,\n",
      "         -4.8427e-02,  1.5308e-02,  1.3590e-01,  1.2249e-02, -1.6140e-01],\n",
      "        [-8.4977e-02,  1.4737e-01, -9.1138e-02,  1.1229e-01,  2.6810e-01,\n",
      "          3.2087e-02,  2.6014e-02,  2.7538e-02, -2.3192e-02, -6.9351e-02,\n",
      "          2.8429e-02,  8.3252e-02,  1.2875e-02,  3.6189e-02, -4.7805e-02,\n",
      "         -1.0420e-01,  7.6338e-02,  1.2944e-01, -3.4938e-02, -9.8981e-03,\n",
      "         -2.4529e-02,  1.2927e-01,  1.0067e-01, -1.3622e-01,  2.0741e-02,\n",
      "          5.8415e-02, -5.8081e-02,  2.3920e-01, -1.5155e-01, -4.4648e-02,\n",
      "         -1.4883e-01,  6.4820e-02, -1.4554e-01, -2.0450e-01,  5.0984e-02,\n",
      "          9.2473e-02, -1.5656e-01, -1.9513e-02, -1.4963e-01,  7.8118e-02,\n",
      "          2.1679e-02,  2.5865e-02,  2.2580e-02,  2.6359e-02, -2.7938e-02,\n",
      "         -1.2938e-02, -1.7009e-01,  1.9853e-01,  6.4999e-02, -9.9087e-02,\n",
      "          3.4717e-02, -6.1151e-02,  7.7860e-02,  8.2841e-02,  1.3355e-01,\n",
      "          3.8404e-02,  4.5319e-02,  2.5707e-02, -2.9303e-02, -5.7822e-03,\n",
      "         -7.5025e-02, -1.6830e-01, -2.0785e-01,  1.1579e-02,  9.3173e-02,\n",
      "          1.8572e-02, -1.0353e-01, -1.4626e-01,  1.5592e-02,  9.1420e-02,\n",
      "          1.5082e-02,  7.6111e-02,  9.5641e-02, -6.6409e-02, -2.1276e-01,\n",
      "         -9.2273e-02,  1.1838e-01,  1.2855e-01,  2.1340e-01, -1.3525e-01,\n",
      "         -9.3870e-03,  4.4056e-02,  8.7321e-02, -7.0191e-02,  1.6786e-01,\n",
      "         -1.0031e-01,  8.1927e-02,  7.9776e-02,  1.2345e-01,  2.2378e-02,\n",
      "          6.3433e-02,  3.6719e-02,  1.5383e-01,  7.8574e-02,  8.4573e-02,\n",
      "          3.4228e-02, -1.1588e-01,  9.5000e-02,  1.4227e-01, -1.0402e-01]],\n",
      "       device='cuda:0', requires_grad=True)), ('layer3.0.bias', Parameter containing:\n",
      "tensor([ 0.0451, -0.1244, -0.0194,  0.0694,  0.0807,  0.0945, -0.0152,  0.0554,\n",
      "        -0.0289, -0.0105], device='cuda:0', requires_grad=True))]\n"
     ]
    }
   ],
   "source": [
    "param_optimizer = list(model.named_parameters())\n",
    "print(param_optimizer)"
   ]
  },
  {
   "cell_type": "code",
   "execution_count": 9,
   "metadata": {},
   "outputs": [
    {
     "name": "stdout",
     "output_type": "stream",
     "text": [
      "epoch: 50, loss: 1.863\n",
      "epoch: 100, loss: 0.9721\n",
      "epoch: 150, loss: 0.5931\n",
      "epoch: 200, loss: 0.4044\n",
      "epoch: 250, loss: 0.2914\n",
      "epoch: 300, loss: 0.154\n",
      "epoch: 350, loss: 0.2079\n",
      "epoch: 400, loss: 0.1299\n",
      "epoch: 450, loss: 0.1672\n",
      "epoch: 500, loss: 0.11\n",
      "epoch: 550, loss: 0.129\n",
      "epoch: 600, loss: 0.142\n",
      "epoch: 650, loss: 0.1056\n",
      "epoch: 700, loss: 0.229\n",
      "epoch: 750, loss: 0.04343\n",
      "epoch: 800, loss: 0.08845\n",
      "epoch: 850, loss: 0.2036\n",
      "epoch: 900, loss: 0.04252\n",
      "Test Loss: 0.086100, Acc: 0.972100\n"
     ]
    }
   ],
   "source": [
    "model = CNN()\n",
    "# model = net.Activation_Net(28 * 28, 300, 100, 10)\n",
    "# model = net.Batch_Net(28 * 28, 300, 100, 10)\n",
    "if torch.cuda.is_available():\n",
    "    model = model.cuda()\n",
    "\n",
    "# 定义损失函数和优化器\n",
    "criterion = nn.CrossEntropyLoss()\n",
    "optimizer = optim.SGD(model.parameters(), lr=learning_rate)\n",
    "\n",
    "# 训练模型\n",
    "epoch = 0\n",
    "for data in train_loader:\n",
    "    img, label = data\n",
    "    # img = img.view(img.size(0), -1)\n",
    "    img = Variable(img)\n",
    "    if torch.cuda.is_available():\n",
    "        img = img.cuda()\n",
    "        label = label.cuda()\n",
    "    else:\n",
    "        img = Variable(img)\n",
    "        label = Variable(label)\n",
    "    out = model(img)\n",
    "    loss = criterion(out, label)\n",
    "    print_loss = loss.data.item()\n",
    "\n",
    "    optimizer.zero_grad()\n",
    "    loss.backward()\n",
    "    optimizer.step()\n",
    "    epoch+=1\n",
    "    if epoch%50 == 0:\n",
    "        print('epoch: {}, loss: {:.4}'.format(epoch, loss.data.item()))\n",
    "\n",
    "# 模型评估\n",
    "model.eval()\n",
    "eval_loss = 0\n",
    "eval_acc = 0\n",
    "for data in test_loader:\n",
    "    img, label = data\n",
    "    # img = img.view(img.size(0), -1)\n",
    "    img = Variable(img)\n",
    "    if torch.cuda.is_available():\n",
    "        img = img.cuda()\n",
    "        label = label.cuda()\n",
    "\n",
    "    out = model(img)\n",
    "    loss = criterion(out, label)\n",
    "    eval_loss += loss.data.item()*label.size(0)\n",
    "    _, pred = torch.max(out, 1)\n",
    "    num_correct = (pred == label).sum()\n",
    "    eval_acc += num_correct.item()\n",
    "print('Test Loss: {:.6f}, Acc: {:.6f}'.format(\n",
    "    eval_loss / (len(test_dataset)),\n",
    "    eval_acc / (len(test_dataset))\n",
    "))\n"
   ]
  },
  {
   "cell_type": "code",
   "execution_count": 71,
   "metadata": {},
   "outputs": [],
   "source": [
    "#用循环神经网络拟合曲线的例子\n",
    "class Rnn(nn.Module):\n",
    "    def __init__(self, INPUT_SIZE):\n",
    "        super(Rnn, self).__init__()\n",
    "\n",
    "        self.rnn = nn.RNN(\n",
    "            input_size=INPUT_SIZE,\n",
    "            hidden_size=32,\n",
    "            num_layers=1,\n",
    "            batch_first=True\n",
    "        )\n",
    "\n",
    "        self.out = nn.Linear(32, 1)\n",
    "\n",
    "    def forward(self, x, h_state):\n",
    "        r_out, h_state = self.rnn(x, h_state)\n",
    "\n",
    "        outs = []\n",
    "        for time in range(r_out.size(1)):\n",
    "            outs.append(self.out(r_out[:, time, :]))\n",
    "        return torch.stack(outs, dim=1), h_state\n"
   ]
  },
  {
   "cell_type": "code",
   "execution_count": 78,
   "metadata": {},
   "outputs": [
    {
     "data": {
      "image/png": "[encoded data removed]",
      "text/plain": [
       "<Figure size 432x288 with 1 Axes>"
      ]
     },
     "metadata": {
      "needs_background": "light"
     },
     "output_type": "display_data"
    },
    {
     "name": "stdout",
     "output_type": "stream",
     "text": [
      "Rnn(\n",
      "  (rnn): RNN(1, 32, batch_first=True)\n",
      "  (out): Linear(in_features=32, out_features=1, bias=True)\n",
      ")\n"
     ]
    },
    {
     "data": {
      "image/png": "[encoded data removed]",
      "text/plain": [
       "<Figure size 432x288 with 1 Axes>"
      ]
     },
     "metadata": {
      "needs_background": "light"
     },
     "output_type": "display_data"
    },
    {
     "data": {
      "image/png": "[encoded data removed]",
      "text/plain": [
       "<Figure size 432x288 with 1 Axes>"
      ]
     },
     "metadata": {
      "needs_background": "light"
     },
     "output_type": "display_data"
    },
    {
     "data": {
      "image/png": "[encoded data removed]",
      "text/plain": [
       "<Figure size 432x288 with 1 Axes>"
      ]
     },
     "metadata": {
      "needs_background": "light"
     },
     "output_type": "display_data"
    },
    {
     "data": {
      "image/png": "[encoded data removed]",
      "text/plain": [
       "<Figure size 432x288 with 1 Axes>"
      ]
     },
     "metadata": {
      "needs_background": "light"
     },
     "output_type": "display_data"
    },
    {
     "data": {
      "image/png": "[encoded data removed]",
      "text/plain": [
       "<Figure size 432x288 with 1 Axes>"
      ]
     },
     "metadata": {
      "needs_background": "light"
     },
     "output_type": "display_data"
    },
    {
     "data": {
      "image/png": "[encoded data removed]",
      "text/plain": [
       "<Figure size 432x288 with 1 Axes>"
      ]
     },
     "metadata": {
      "needs_background": "light"
     },
     "output_type": "display_data"
    },
    {
     "data": {
      "image/png": "[encoded data removed]",
      "text/plain": [
       "<Figure size 432x288 with 1 Axes>"
      ]
     },
     "metadata": {
      "needs_background": "light"
     },
     "output_type": "display_data"
    },
    {
     "data": {
      "image/png": "[encoded data removed]",
      "text/plain": [
       "<Figure size 432x288 with 1 Axes>"
      ]
     },
     "metadata": {
      "needs_background": "light"
     },
     "output_type": "display_data"
    },
    {
     "data": {
      "image/png": "[encoded data removed]",
      "text/plain": [
       "<Figure size 432x288 with 1 Axes>"
      ]
     },
     "metadata": {
      "needs_background": "light"
     },
     "output_type": "display_data"
    },
    {
     "data": {
      "image/png": "[encoded data removed]",
      "text/plain": [
       "<Figure size 432x288 with 1 Axes>"
      ]
     },
     "metadata": {
      "needs_background": "light"
     },
     "output_type": "display_data"
    },
    {
     "data": {
      "image/png": "[encoded data removed]",
      "text/plain": [
       "<Figure size 432x288 with 1 Axes>"
      ]
     },
     "metadata": {
      "needs_background": "light"
     },
     "output_type": "display_data"
    }
   ],
   "source": [
    "TIME_STEP = 10\n",
    "INPUT_SIZE = 1\n",
    "LR = 0.02\n",
    "\n",
    "# 创造一些数据\n",
    "steps = np.linspace(0, np.pi*2, 100, dtype=np.float)\n",
    "x_np = np.sin(steps)\n",
    "y_np = np.cos(steps)\n",
    "#\n",
    "# 显示数据\n",
    "plt.plot(steps, y_np, 'r-', label='target(cos)')\n",
    "plt.plot(steps, x_np, 'b-', label='input(sin)')\n",
    "plt.legend(loc='best')\n",
    "plt.show()\n",
    "\n",
    "# 选择模型\n",
    "model = Rnn(INPUT_SIZE)\n",
    "print(model)\n",
    "\n",
    "# 定义优化器和损失函数\n",
    "loss_func = nn.MSELoss()\n",
    "optimizer = torch.optim.Adam(model.parameters(), lr=LR)\n",
    "\n",
    "h_state = None # 第一次的时候，暂存为0\n",
    "\n",
    "for step in range(300):\n",
    "    start, end = step * np.pi, (step+1)*np.pi\n",
    "\n",
    "    steps = np.linspace(start, end, TIME_STEP, dtype=np.float32)\n",
    "    x_np = np.sin(steps)\n",
    "    y_np = np.cos(steps)\n",
    "\n",
    "    x = torch.from_numpy(x_np[np.newaxis, :, np.newaxis])\n",
    "    y = torch.from_numpy(y_np[np.newaxis, :, np.newaxis])\n",
    "\n",
    "    prediction, h_state = model(x, h_state)\n",
    "    h_state = h_state.data\n",
    "\n",
    "    loss = loss_func(prediction, y)\n",
    "    optimizer.zero_grad()\n",
    "    loss.backward()\n",
    "    optimizer.step()\n",
    "    \n",
    "    if (step%30 == 0):\n",
    "        plt.plot(steps, y_np.flatten(), 'r-')\n",
    "        plt.plot(steps, prediction.data.numpy().flatten(), 'b-')\n",
    "        plt.show()\n",
    "\n",
    "plt.plot(steps, y_np.flatten(), 'r-')\n",
    "plt.plot(steps, prediction.data.numpy().flatten(), 'b-')\n",
    "plt.show()"
   ]
  },
  {
   "cell_type": "code",
   "execution_count": 69,
   "metadata": {},
   "outputs": [
    {
     "name": "stdout",
     "output_type": "stream",
     "text": [
      "[0.         0.34906584 0.6981317  1.0471976  1.3962634  1.7453293\n",
      " 2.0943952  2.443461   2.7925267  3.1415927 ]\n",
      "[ 0.0000000e+00  3.4202012e-01  6.4278758e-01  8.6602545e-01\n",
      "  9.8480773e-01  9.8480773e-01  8.6602539e-01  6.4278764e-01\n",
      "  3.4202021e-01 -8.7422777e-08]\n",
      "tensor([[[ 1.0000],\n",
      "         [ 0.9397],\n",
      "         [ 0.7660],\n",
      "         [ 0.5000],\n",
      "         [ 0.1736],\n",
      "         [-0.1736],\n",
      "         [-0.5000],\n",
      "         [-0.7660],\n",
      "         [-0.9397],\n",
      "         [-1.0000]]])\n",
      "[3.1415927 3.4906585 3.8397243 4.1887903 4.537856  4.886922  5.2359877\n",
      " 5.5850534 5.934119  6.2831855]\n",
      "[-8.7422777e-08 -3.4202015e-01 -6.4278758e-01 -8.6602545e-01\n",
      " -9.8480779e-01 -9.8480773e-01 -8.6602545e-01 -6.4278775e-01\n",
      " -3.4202036e-01  1.7484555e-07]\n",
      "tensor([[[-1.0000],\n",
      "         [-0.9397],\n",
      "         [-0.7660],\n",
      "         [-0.5000],\n",
      "         [-0.1736],\n",
      "         [ 0.1736],\n",
      "         [ 0.5000],\n",
      "         [ 0.7660],\n",
      "         [ 0.9397],\n",
      "         [ 1.0000]]])\n"
     ]
    }
   ],
   "source": [
    " np.pi\n",
    "for step in range(2):\n",
    "    start, end = step * np.pi, (step+1)*np.pi\n",
    "\n",
    "    steps = np.linspace(start, end, 10, dtype=np.float32)\n",
    "    print(steps)\n",
    "    x_np = np.sin(steps)\n",
    "    y_np = np.cos(steps)\n",
    "\n",
    "    x = torch.from_numpy(x_np[np.newaxis, :, np.newaxis])\n",
    "    print(x_np)\n",
    "    y = torch.from_numpy(y_np[np.newaxis, :, np.newaxis])\n",
    "    print(y)\n"
   ]
  },
  {
   "cell_type": "code",
   "execution_count": 10,
   "metadata": {},
   "outputs": [
    {
     "name": "stdout",
     "output_type": "stream",
     "text": [
      "1.0.1\n",
      "cuda\n"
     ]
    }
   ],
   "source": [
    "import torch\n",
    "import random\n",
    "import zipfile\n",
    "\n",
    "device = torch.device('cuda' if torch.cuda.is_available() else 'cpu')\n",
    "print(torch.__version__)\n",
    "print(device)"
   ]
  },
  {
   "cell_type": "code",
   "execution_count": 12,
   "metadata": {},
   "outputs": [
    {
     "data": {
      "text/plain": [
       "'想要有直升机\\n想要和你飞到宇宙去\\n想要和你融化在一起\\n融化在宇宙里\\n我每天每天每'"
      ]
     },
     "execution_count": 12,
     "metadata": {},
     "output_type": "execute_result"
    }
   ],
   "source": [
    "f = open('jaychou_lyrics.txt')\n",
    "corpus_chars = f.read()\n",
    "corpus_chars[:40]"
   ]
  },
  {
   "cell_type": "code",
   "execution_count": 95,
   "metadata": {},
   "outputs": [
    {
     "name": "stdout",
     "output_type": "stream",
     "text": [
      "[791, 190, 700, 173, 836, 518, 410, 791, 190, 464, 272, 526, 485, 4, 472, 576, 410, 791, 190, 464, 272, 568, 872, 151, 824, 932, 410, 568, 872, 151, 4, 472, 72, 410, 280, 195, 895, 195, 895, 195]\n"
     ]
    }
   ],
   "source": [
    "corpus_chars = corpus_chars.replace('\\n', ' ').replace('\\r', ' ')\n",
    "corpus_chars = corpus_chars[0:20000]\n",
    "idx_to_char = list(set(corpus_chars))\n",
    "char_to_idx = dict([(char, i) for i, char in enumerate(idx_to_char)])\n",
    "vocab_size = len(char_to_idx)\n",
    "corpus_indices = [char_to_idx[char] for char in corpus_chars]\n",
    "\n",
    "print(corpus_indices[:40])"
   ]
  },
  {
   "cell_type": "code",
   "execution_count": 96,
   "metadata": {},
   "outputs": [
    {
     "data": {
      "text/plain": [
       "1027"
      ]
     },
     "execution_count": 96,
     "metadata": {},
     "output_type": "execute_result"
    }
   ],
   "source": [
    "\n",
    "vocab_size"
   ]
  },
  {
   "cell_type": "code",
   "execution_count": 97,
   "metadata": {},
   "outputs": [
    {
     "name": "stdout",
     "output_type": "stream",
     "text": [
      "torch.Size([35, 2, 256]) 1 torch.Size([2, 256])\n"
     ]
    }
   ],
   "source": [
    "num_hiddens = 256\n",
    "# rnn_layer = nn.LSTM(input_size=vocab_size, hidden_size=num_hiddens) # 已测试\n",
    "rnn_layer = nn.RNN(input_size=vocab_size, hidden_size=num_hiddens)\n",
    "\n",
    "num_steps = 35\n",
    "batch_size = 2\n",
    "state = None\n",
    "X = torch.rand(num_steps, batch_size, vocab_size)\n",
    "Y, state_new = rnn_layer(X, state)\n",
    "print(Y.shape, len(state_new), state_new[0].shape)"
   ]
  },
  {
   "cell_type": "code",
   "execution_count": 98,
   "metadata": {},
   "outputs": [
    {
     "name": "stdout",
     "output_type": "stream",
     "text": [
      "5 torch.Size([2, 1027])\n"
     ]
    }
   ],
   "source": [
    "def one_hot(x, n_class, dtype=torch.float32): \n",
    "    # X shape: (batch), output shape: (batch, n_class)\n",
    "    x = x.long()\n",
    "    res = torch.zeros(x.shape[0], n_class, dtype=dtype, device=x.device)\n",
    "    res.scatter_(1, x.view(-1, 1), 1)\n",
    "    return res\n",
    "    \n",
    "x = torch.tensor([0, 2])\n",
    "one_hot(x, vocab_size)\n",
    "\n",
    "def to_onehot(X, n_class):  \n",
    "    # X shape: (batch, seq_len), output: seq_len elements of (batch, n_class)\n",
    "    return [one_hot(X[:, i], n_class) for i in range(X.shape[1])]\n",
    "\n",
    "X = torch.arange(10).view(2, 5)\n",
    "inputs = to_onehot(X, vocab_size)\n",
    "print(len(inputs), inputs[0].shape)\n",
    "\n",
    "\n",
    "def grad_clipping(params, theta, device):\n",
    "    norm = torch.tensor([0.0], device=device)\n",
    "    for param in params:\n",
    "        norm += (param.grad.data ** 2).sum()\n",
    "    norm = norm.sqrt().item()\n",
    "    if norm > theta:\n",
    "        for param in params:\n",
    "            param.grad.data *= (theta / norm)\n",
    "            \n",
    "            \n",
    "def data_iter_consecutive(corpus_indices, batch_size, num_steps, device=None):\n",
    "    if device is None:\n",
    "        device = torch.device('cuda' if torch.cuda.is_available() else 'cpu')\n",
    "    corpus_indices = torch.tensor(corpus_indices, dtype=torch.float32, device=device)\n",
    "    data_len = len(corpus_indices)\n",
    "    batch_len = data_len // batch_size\n",
    "    indices = corpus_indices[0: batch_size*batch_len].view(batch_size, batch_len)\n",
    "    epoch_size = (batch_len - 1) // num_steps\n",
    "    for i in range(epoch_size):\n",
    "        i = i * num_steps\n",
    "        X = indices[:, i: i + num_steps]\n",
    "        Y = indices[:, i + 1: i + num_steps + 1]\n",
    "        yield X, Y"
   ]
  },
  {
   "cell_type": "code",
   "execution_count": 99,
   "metadata": {},
   "outputs": [],
   "source": [
    "class RNNModel(nn.Module):\n",
    "    def __init__(self, rnn_layer, vocab_size):\n",
    "        super(RNNModel, self).__init__()\n",
    "        self.rnn = rnn_layer\n",
    "        self.hidden_size = rnn_layer.hidden_size * (2 if rnn_layer.bidirectional else 1) \n",
    "        self.vocab_size = vocab_size\n",
    "        self.dense = nn.Linear(self.hidden_size, vocab_size)\n",
    "        self.state = None\n",
    "\n",
    "    def forward(self, inputs, state): # inputs: (batch, seq_len)\n",
    "        # 获取one-hot向量表示\n",
    "        X = to_onehot(inputs, vocab_size) # X是个list\n",
    "        Y, self.state = self.rnn(torch.stack(X), state)\n",
    "        # 全连接层会首先将Y的形状变成(num_steps * batch_size, num_hiddens)，它的输出\n",
    "        # 形状为(num_steps * batch_size, vocab_size)\n",
    "        output = self.dense(Y.view(-1, Y.shape[-1]))\n",
    "        return output, self.state"
   ]
  },
  {
   "cell_type": "code",
   "execution_count": 100,
   "metadata": {},
   "outputs": [],
   "source": [
    "def predict_rnn_pytorch(prefix, num_chars, model, vocab_size, device, idx_to_char,\n",
    "                      char_to_idx):\n",
    "    state = None\n",
    "    output = [char_to_idx[prefix[0]]] # output会记录prefix加上输出\n",
    "    for t in range(num_chars + len(prefix) - 1):\n",
    "        X = torch.tensor([output[-1]], device=device).view(1, 1)\n",
    "        if state is not None:\n",
    "            if isinstance(state, tuple): # LSTM, state:(h, c)  \n",
    "                state = (state[0].to(device), state[1].to(device))\n",
    "            else:   \n",
    "                state = state.to(device)\n",
    "            \n",
    "        (Y, state) = model(X, state)  # 前向计算不需要传入模型参数\n",
    "        if t < len(prefix) - 1:\n",
    "            output.append(char_to_idx[prefix[t + 1]])\n",
    "        else:\n",
    "            output.append(int(Y.argmax(dim=1).item()))\n",
    "    return ''.join([idx_to_char[i] for i in output])"
   ]
  },
  {
   "cell_type": "code",
   "execution_count": 104,
   "metadata": {},
   "outputs": [
    {
     "name": "stdout",
     "output_type": "stream",
     "text": [
      "RNNModel(\n",
      "  (rnn): RNN(1027, 256)\n",
      "  (dense): Linear(in_features=256, out_features=1027, bias=True)\n",
      ")\n"
     ]
    },
    {
     "data": {
      "text/plain": [
       "'分开睡凉泊市属伤彻始哀宇'"
      ]
     },
     "execution_count": 104,
     "metadata": {},
     "output_type": "execute_result"
    }
   ],
   "source": [
    "model = RNNModel(rnn_layer, vocab_size).to(device)\n",
    "print(model)\n",
    "predict_rnn_pytorch('分开', 10, model, vocab_size, device, idx_to_char, char_to_idx)"
   ]
  },
  {
   "cell_type": "code",
   "execution_count": 102,
   "metadata": {},
   "outputs": [],
   "source": [
    "import time\n",
    "import math\n",
    "def train_and_predict_rnn_pytorch(model, num_hiddens, vocab_size, device,\n",
    "                                corpus_indices, idx_to_char, char_to_idx,\n",
    "                                num_epochs, num_steps, lr, clipping_theta,\n",
    "                                batch_size, pred_period, pred_len, prefixes):\n",
    "    loss = nn.CrossEntropyLoss()\n",
    "    optimizer = torch.optim.Adam(model.parameters(), lr=lr)\n",
    "    model.to(device)\n",
    "    state = None\n",
    "    for epoch in range(num_epochs):\n",
    "        l_sum, n, start = 0.0, 0, time.time()\n",
    "        data_iter = data_iter_consecutive(corpus_indices, batch_size, num_steps, device) # 相邻采样\n",
    "        for X, Y in data_iter:\n",
    "            if state is not None:\n",
    "                # 使用detach函数从计算图分离隐藏状态, 这是为了\n",
    "                # 使模型参数的梯度计算只依赖一次迭代读取的小批量序列(防止梯度计算开销太大)\n",
    "                if isinstance (state, tuple): # LSTM, state:(h, c)  \n",
    "                    state = (state[0].detach(), state[1].detach())\n",
    "                else:   \n",
    "                    state = state.detach()\n",
    "    \n",
    "            (output, state) = model(X, state) # output: 形状为(num_steps * batch_size, vocab_size)\n",
    "            \n",
    "            # Y的形状是(batch_size, num_steps)，转置后再变成长度为\n",
    "            # batch * num_steps 的向量，这样跟输出的行一一对应\n",
    "            y = torch.transpose(Y, 0, 1).contiguous().view(-1)\n",
    "            l = loss(output, y.long())\n",
    "            \n",
    "            optimizer.zero_grad()\n",
    "            l.backward()\n",
    "            # 梯度裁剪\n",
    "            grad_clipping(model.parameters(), clipping_theta, device)\n",
    "            optimizer.step()\n",
    "            l_sum += l.item() * y.shape[0]\n",
    "            n += y.shape[0]\n",
    "        \n",
    "        try:\n",
    "            perplexity = math.exp(l_sum / n)\n",
    "        except OverflowError:\n",
    "            perplexity = float('inf')\n",
    "        if (epoch + 1) % pred_period == 0:\n",
    "            print('epoch %d, perplexity %f, time %.2f sec' % (\n",
    "                epoch + 1, perplexity, time.time() - start))\n",
    "            for prefix in prefixes:\n",
    "                print(' -', predict_rnn_pytorch(\n",
    "                    prefix, pred_len, model, vocab_size, device, idx_to_char,\n",
    "                    char_to_idx))"
   ]
  },
  {
   "cell_type": "code",
   "execution_count": 103,
   "metadata": {},
   "outputs": [
    {
     "name": "stdout",
     "output_type": "stream",
     "text": [
      "epoch 50, perplexity 9.860696, time 0.06 sec\n",
      " - 分开始我妈 你想你你你 我不多 想 你不要再想  不的我不 我想要你不球 有多难不多  不有有不过 不知\n",
      " - 不分开  我有一直热粥 单家是你 我不你 爱我有一直不多 多 你不我 你的手不多人 就想有你不过我不多再想\n",
      "epoch 100, perplexity 1.260283, time 0.05 sec\n",
      " - 分开不会口 你知  我想大声宣布 对你依依不舍 连隔壁邻居都猜到我现在一感受 河边的风 在吹着头发飘动 \n",
      " - 不分开  我不能看着笑 爸你你手 我妈妈难道 我不能看着我 爸你一美 随慢香家的的 我有到空 是我不要 不\n",
      "epoch 150, perplexity 1.061972, time 0.05 sec\n",
      " - 分开 我手不大暴力 我给你这节奏 后知后觉 又过了一个秋 后知后觉 我该好好生活 我该好好生活 不知不觉\n",
      " - 不分开  我不想这样寒话妈 我不要再这 打我妈 你不想  爸不场 剧 我不要再想你 爱情来的太快就像龙卷风\n",
      "epoch 200, perplexity 1.032533, time 0.05 sec\n",
      " - 分开 我手不大暴力 我已无能为力再提起 决定中断熟悉 然后在这里 不限日期 然后将过去 慢慢温习 让我爱\n",
      " - 不分开 我我不了这里 当知道你 手的一步就还 著一阵吴侬软语的姑娘缓缓走过外滩 消失的 旧时光 一九四三 \n",
      "epoch 250, perplexity 1.046562, time 0.05 sec\n",
      " - 分开 我手不大声整 画面是你 想你想的你笑我  你回我打开 管知后觉 你说啊这样打担妈 你在我打我妈  \n",
      " - 不分开 我我不了这里 当给过你美 我已无 为力的在色笑 想要想看到 只是我回忆这里很美 沙漠之中怎么会有泥\n",
      "epoch 300, perplexity 1.015252, time 0.06 sec\n",
      " - 分开 我手不大暴力 我说店这样牵着你的我面放的 爱还有的手不放开 爱懂不能够永远单纯没有悲哀 我 想带你\n",
      " - 不分开 我我不了这里 当种都你 陪离 却又是考 他 说散 你想很久了吧? 我不想拆穿你 当作 是你开的玩笑\n",
      "epoch 350, perplexity 1.013362, time 0.05 sec\n",
      " - 分开 我手不大暴整 Wu  爱情来到 你想我们爱的我美开始乡像信见的他感动 我说走 你怎么 我是不会多 \n",
      " - 不分开 我我不了这里 当年 你言太多 我想是让我你来想 你不再我 你打我妈  说散 你想很久了吧? 我不要\n"
     ]
    }
   ],
   "source": [
    "num_epochs, batch_size, lr, clipping_theta = 350, 32, 1e-3, 1e-2 # 注意这里的学习率设置\n",
    "pred_period, pred_len, prefixes = 50, 50, ['分开', '不分开']\n",
    "train_and_predict_rnn_pytorch(model, num_hiddens, vocab_size, device,\n",
    "                            corpus_indices, idx_to_char, char_to_idx,\n",
    "                            num_epochs, num_steps, lr, clipping_theta,\n",
    "                            batch_size, pred_period, pred_len, prefixes)"
   ]
  },
  {
   "cell_type": "code",
   "execution_count": 61,
   "metadata": {},
   "outputs": [
    {
     "name": "stdout",
     "output_type": "stream",
     "text": [
      "epoch 50, perplexity 1.013996, time 0.06 sec\n",
      " - 我妈妈 就是开的了口让她知道 我一定会呵护著你 也逗你笑 你对我有多重要 我后悔没让你知道 安静的听你\n",
      " - 你  有你不 说不想 这说啊 你看着我 想这样没担忧 唱着歌 一直走 我想就这样牵着你的手不放开 爱可\n",
      "epoch 100, perplexity 1.009132, time 0.06 sec\n",
      " - 我妈妈 就怎么打我妈妈 我不会气吗 说都没有原 我有多烦恼  没有你烦 有多烦恼多难熬  穿过云层 我\n",
      " - 你 我不了口让口知道  是那么风了会让它就着 不投 又不会掩护我 选你这种队友 瞎透了我 说你说 分数\n",
      "epoch 150, perplexity 1.012477, time 0.06 sec\n",
      " - 我 你看着我的爸 一直   后知后 安静我不懂 说 没有你烦我有多烦恼多 没有你烦我有多烦恼多难熬  \n",
      " - 你看棒球 想这样没担忧 唱着歌 一直走 我想就这样牵着你的手不放开 爱可不可以简简单单没有伤害 你 靠\n",
      "epoch 200, perplexity 1.023927, time 0.06 sec\n",
      " - 我 你拿着球不投 又不会掩护我 选你这种队友 瞎透了我 说你说 分数怎么停留 一直在停留 谁让它停留的\n",
      " - 你 我不能看到  想要有直升机 想要和你飞到宇宙去 想要和你融化在一起 融化在宇宙里 我每天每天每天在\n",
      "epoch 250, perplexity 1.007852, time 0.07 sec\n",
      " - 我 你看着我 想想想通 不要再想的让我 上的回忆 的话样直说 有想有样 什么兵器最喜欢 双截棍柔中带刚\n",
      " - 你看 我 想带你骑单车 我 想和你看棒球 想这样没担忧 唱着歌 一直走 我想就这样牵着你的手不放开 爱\n"
     ]
    }
   ],
   "source": [
    "pred_period, pred_len, prefixes = 50, 50, ['我', '你']\n",
    "train_and_predict_rnn_pytorch(model, num_hiddens, vocab_size, device,\n",
    "                            corpus_indices, idx_to_char, char_to_idx,\n",
    "                            num_epochs, num_steps, lr, clipping_theta,\n",
    "                            batch_size, pred_period, pred_len, prefixes)"
   ]
  },
  {
   "cell_type": "code",
   "execution_count": null,
   "metadata": {},
   "outputs": [],
   "source": []
  }
 ],
 "metadata": {
  "kernelspec": {
   "display_name": "learn_py3",
   "language": "python",
   "name": "learn_py3"
  },
  "language_info": {
   "codemirror_mode": {
    "name": "ipython",
    "version": 3
   },
   "file_extension": ".py",
   "mimetype": "text/x-python",
   "name": "python",
   "nbconvert_exporter": "python",
   "pygments_lexer": "ipython3",
   "version": "3.7.4"
  }
 },
 "nbformat": 4,
 "nbformat_minor": 2
}
